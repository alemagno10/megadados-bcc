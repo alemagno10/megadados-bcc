{
 "cells": [
  {
   "cell_type": "markdown",
   "metadata": {},
   "source": [
    "# Mais sobre `SELECT`\n",
    "\n",
    "- temporary tables\n",
    "- views\n",
    "- variables\n",
    "- subqueries\n"
   ]
  },
  {
   "cell_type": "code",
   "execution_count": 5,
   "metadata": {},
   "outputs": [],
   "source": [
    "from functools import partial\n",
    "from dotenv import load_dotenv\n",
    "import insperautograder.jupyter as ia\n",
    "import mysql.connector\n",
    "import os\n",
    "\n",
    "load_dotenv(override=True)\n",
    "\n",
    "connection = mysql.connector.connect(\n",
    "    host=os.getenv(\"MD_DB_SERVER\"),\n",
    "    user=os.getenv(\"MD_DB_USERNAME\"),\n",
    "    password=os.getenv(\"MD_DB_PASSWORD\"),\n",
    "    database=\"sakila\"\n",
    ")\n",
    "\n",
    "def run_db_query(connection, query, args=None):\n",
    "    with connection.cursor() as cursor:\n",
    "        print(\"Executando query:\")\n",
    "        cursor.execute(query, args)\n",
    "        for result in cursor:\n",
    "            print(result)\n",
    "\n",
    "db = partial(run_db_query, connection)"
   ]
  },
  {
   "cell_type": "markdown",
   "metadata": {},
   "source": [
    "## Exercícios para entrega\n",
    "\n",
    "Esta aula tem atividade para entrega, confira os prazos e exercícios"
   ]
  },
  {
   "cell_type": "code",
   "execution_count": null,
   "metadata": {},
   "outputs": [],
   "source": [
    "ia.tasks()"
   ]
  },
  {
   "cell_type": "code",
   "execution_count": null,
   "metadata": {},
   "outputs": [],
   "source": [
    "ia.grades(by=\"task\")"
   ]
  },
  {
   "cell_type": "code",
   "execution_count": null,
   "metadata": {},
   "outputs": [],
   "source": [
    "ia.grades(task=\"views\")"
   ]
  },
  {
   "cell_type": "markdown",
   "metadata": {},
   "source": [
    "## Aquecimento"
   ]
  },
  {
   "cell_type": "markdown",
   "metadata": {},
   "source": [
    "Quanta receita foi gerada para cada categoria de filmes? Mostre o nome da categoria e a receita. Ordene da maior receita para para a menor."
   ]
  },
  {
   "cell_type": "code",
   "execution_count": null,
   "metadata": {},
   "outputs": [],
   "source": [
    "sql_ex01 = \"\"\"\n",
    "SELECT name, SUM(amount) FROM category\n",
    "JOIN film_category USING(category_id)\n",
    "JOIN film USING(film_id)\n",
    "JOIN inventory USING(film_id)\n",
    "JOIN rental USING(inventory_id)\n",
    "JOIN payment USING(rental_id)\n",
    "GROUP BY name\n",
    "ORDER BY SUM(amount) DESC\n",
    "\"\"\"\n",
    "\n",
    "db(sql_ex01)"
   ]
  },
  {
   "cell_type": "code",
   "execution_count": null,
   "metadata": {},
   "outputs": [],
   "source": [
    "ia.sender(answer=\"sql_ex01\", task=\"views\", question=\"ex01\", answer_type=\"pyvar\")"
   ]
  },
  {
   "cell_type": "markdown",
   "metadata": {},
   "source": [
    "Liste os 10 filmes mais alugados e o numero de vezes em que foram alugados. Ordene do mais alugado para o menos alugado."
   ]
  },
  {
   "cell_type": "code",
   "execution_count": null,
   "metadata": {},
   "outputs": [],
   "source": [
    "sql_ex02 = \"\"\"\n",
    "SELECT title, COUNT(*) AS al FROM rental\n",
    "JOIN inventory USING(inventory_id)\n",
    "JOIN film USING(film_id)\n",
    "GROUP BY film_id\n",
    "ORDER BY al DESC\n",
    "LIMIT 10;\n",
    "\"\"\"\n",
    "\n",
    "db(sql_ex02)"
   ]
  },
  {
   "cell_type": "code",
   "execution_count": null,
   "metadata": {},
   "outputs": [],
   "source": [
    "ia.sender(answer=\"sql_ex02\", task=\"views\", question=\"ex02\", answer_type=\"pyvar\")"
   ]
  },
  {
   "cell_type": "markdown",
   "metadata": {},
   "source": [
    "**DESAFIO:** Liste os filmes e o numero de vezes em que foram alugados apenas para filmes que foram alugados mais do que a média de numero de alugueis por filme. *Dica*: Serão necessários múltiplos SELECTs. Faça cada um em uma célula diferente."
   ]
  },
  {
   "cell_type": "code",
   "execution_count": null,
   "metadata": {},
   "outputs": [],
   "source": [
    "db(\"\"\"\n",
    "SELECT * FROM rental\n",
    "JOIN inventory USING(inventory_id)\n",
    "JOIN film USING(film_id)\n",
    "\"\"\")\n",
    "db(\"\"\"\n",
    "-- SUA QUERY AQUI!\n",
    "\"\"\")\n",
    "db(\"\"\"\n",
    "-- SUA QUERY AQUI!\n",
    "\"\"\")\n",
    "db(\"\"\"\n",
    "-- SUA QUERY AQUI!\n",
    "\"\"\")"
   ]
  },
  {
   "cell_type": "markdown",
   "metadata": {
    "tags": []
   },
   "source": [
    "## Views\n",
    "\n",
    "Uma *view* é uma tabela virtual, construida a partir de um comando `SELECT`. Por exemplo: execute o código a seguir."
   ]
  },
  {
   "cell_type": "code",
   "execution_count": null,
   "metadata": {},
   "outputs": [],
   "source": [
    "db(\"\"\"\n",
    "DROP VIEW IF EXISTS movie_count;\n",
    "\"\"\")\n",
    "\n",
    "db(\"\"\"\n",
    "CREATE VIEW movie_count AS\n",
    "    SELECT \n",
    "        title, COUNT(rental_id) as cnt\n",
    "    FROM\n",
    "        film\n",
    "        LEFT OUTER JOIN inventory USING (film_id)\n",
    "        LEFT OUTER JOIN rental USING (inventory_id)\n",
    "    GROUP BY\n",
    "        film_id\n",
    "    ORDER BY\n",
    "        cnt ASC;\n",
    "\"\"\")"
   ]
  },
  {
   "cell_type": "markdown",
   "metadata": {},
   "source": [
    "Agora temos uma *view* chamada `movie_count`. Vamos verificar que ela funcionou, listando as 30 primeiras linhas:"
   ]
  },
  {
   "cell_type": "code",
   "execution_count": null,
   "metadata": {},
   "outputs": [],
   "source": [
    "db(\"\"\"\n",
    "SELECT \n",
    "    *\n",
    "FROM\n",
    "    movie_count \n",
    "LIMIT \n",
    "    30\n",
    "\"\"\")"
   ]
  },
  {
   "cell_type": "code",
   "execution_count": null,
   "metadata": {},
   "outputs": [],
   "source": [
    "db(\"\"\"\n",
    "SELECT \n",
    "    * \n",
    "FROM \n",
    "    movie_count \n",
    "ORDER BY\n",
    "    cnt DESC\n",
    "LIMIT 30\n",
    "\"\"\")"
   ]
  },
  {
   "cell_type": "markdown",
   "metadata": {},
   "source": [
    "Agora suponha que alteramos a tabela `film`, mudando o nome do filme \"DAZED PUNK\" para \"STONED PUNK\".\n",
    "\n",
    "**Atividade**: Do it."
   ]
  },
  {
   "cell_type": "code",
   "execution_count": null,
   "metadata": {},
   "outputs": [],
   "source": [
    "db(\"\"\"\n",
    "-- SUA QUERY AQUI!\n",
    "\"\"\")"
   ]
  },
  {
   "cell_type": "markdown",
   "metadata": {},
   "source": [
    "Verifique agora a nossa *view*:"
   ]
  },
  {
   "cell_type": "code",
   "execution_count": null,
   "metadata": {},
   "outputs": [],
   "source": [
    "db(\"\"\"\n",
    "SELECT\n",
    "    *\n",
    "FROM\n",
    "    movie_count\n",
    "LIMIT\n",
    "    30\n",
    "\"\"\")"
   ]
  },
  {
   "cell_type": "markdown",
   "metadata": {},
   "source": [
    "Como você pode ver, as views são tabelas virtuais que são **automaticamente atualizadas quando as tabelas originais são modificadas**.\n",
    "\n",
    "Sempre que você realizar modificações nos dados, dê `commit` ou `rollback`. Ainda, evite executar múltiplas vezes as linhas de código que criem a conexão sem antes ter fechado a conexão ativa.\n",
    "\n",
    "Vamos desfazer as alterações:"
   ]
  },
  {
   "cell_type": "code",
   "execution_count": null,
   "metadata": {},
   "outputs": [],
   "source": [
    "connection.rollback()"
   ]
  },
  {
   "cell_type": "markdown",
   "metadata": {},
   "source": [
    "Conferindo:"
   ]
  },
  {
   "cell_type": "code",
   "execution_count": null,
   "metadata": {},
   "outputs": [],
   "source": [
    "db(\"\"\"\n",
    "SELECT\n",
    "    *\n",
    "FROM\n",
    "    movie_count\n",
    "LIMIT\n",
    "    30\n",
    "\"\"\")"
   ]
  },
  {
   "cell_type": "markdown",
   "metadata": {},
   "source": [
    "### Vamos praticar"
   ]
  },
  {
   "cell_type": "markdown",
   "metadata": {},
   "source": [
    "Verifique quantas vezes o filme \"COWBOY DOOM\" foi alugado usando a view `movie_count`"
   ]
  },
  {
   "cell_type": "code",
   "execution_count": null,
   "metadata": {},
   "outputs": [],
   "source": [
    "sql_ex03 = '''\n",
    "SELECT cnt FROM movie_count\n",
    "WHERE title = \"COWBOY DOOM\";\n",
    "'''\n",
    "\n",
    "db(sql_ex03)"
   ]
  },
  {
   "cell_type": "code",
   "execution_count": null,
   "metadata": {},
   "outputs": [],
   "source": [
    "ia.sender(answer=\"sql_ex03\", task=\"views\", question=\"ex03\", answer_type=\"pyvar\")"
   ]
  },
  {
   "cell_type": "markdown",
   "metadata": {},
   "source": [
    "Registre um aluguel do filme \"COWBOY DOOM\" (com o menor id possível), feito pelo funcionario \"Jon Stephens\" na loja id=1 para o cliente \"JESSIE BANKS\", na data '2019-01-01', com data de retorno '2019-01-08'."
   ]
  },
  {
   "cell_type": "code",
   "execution_count": null,
   "metadata": {},
   "outputs": [],
   "source": [
    "db(\"\"\"\n",
    "SELECT * FROM film\n",
    "WHERE title = \"COWBOY DOOM\"\n",
    "\"\"\")"
   ]
  },
  {
   "cell_type": "code",
   "execution_count": null,
   "metadata": {},
   "outputs": [],
   "source": [
    "db(\"\"\"\n",
    "SELECT inventory_id FROM inventory\n",
    "    WHERE film_id = (\n",
    "        SELECT film_id FROM film\n",
    "        WHERE title = \"COWBOY DOOM\"\n",
    "   )\n",
    "ORDER BY inventory_id\n",
    "LIMIT 1;\n",
    "\"\"\") "
   ]
  },
  {
   "cell_type": "code",
   "execution_count": null,
   "metadata": {},
   "outputs": [],
   "source": [
    "sql_ex04 = \"\"\"\n",
    "INSERT INTO rental (rental_date, return_date, customer_id, staff_id, inventory_id)\n",
    "VALUES (\n",
    "    \"2019-01-01\", \n",
    "\n",
    "    \"2019-01-08\",\n",
    "\n",
    "    (SELECT customer_id FROM customer\n",
    "    WHERE first_name = \"JESSIE\" AND last_name = \"BANKS\"),\n",
    "\n",
    "    (SELECT staff_id FROM staff\n",
    "    WHERE first_name = \"Jon\" AND last_name = \"Stephens\"),\n",
    "\n",
    "    (SELECT inventory_id FROM inventory\n",
    "        WHERE film_id = (\n",
    "            SELECT film_id FROM film\n",
    "            WHERE title = \"COWBOY DOOM\"\n",
    "            )\n",
    "        ORDER BY inventory_id\n",
    "        LIMIT 1\n",
    "    )\n",
    ")\n",
    "\"\"\"\n",
    "\n",
    "db(sql_ex04)"
   ]
  },
  {
   "cell_type": "code",
   "execution_count": null,
   "metadata": {},
   "outputs": [],
   "source": [
    "ia.sender(answer=\"sql_ex04\", task=\"views\", question=\"ex04\", answer_type=\"pyvar\")"
   ]
  },
  {
   "cell_type": "markdown",
   "metadata": {},
   "source": [
    "Verifique usando a view que a contagem de alugueis do filme subiu."
   ]
  },
  {
   "cell_type": "code",
   "execution_count": null,
   "metadata": {},
   "outputs": [],
   "source": [
    "db(\"\"\"\n",
    "-- SUA QUERY AQUI!\n",
    "\"\"\")"
   ]
  },
  {
   "cell_type": "markdown",
   "metadata": {},
   "source": [
    "Faça o *rollback* desta alteração, para não modificar a nossa querida base de dados *sakila*."
   ]
  },
  {
   "cell_type": "code",
   "execution_count": null,
   "metadata": {},
   "outputs": [],
   "source": [
    "connection.rollback()"
   ]
  },
  {
   "cell_type": "markdown",
   "metadata": {},
   "source": [
    "## Tabelas temporárias"
   ]
  },
  {
   "cell_type": "markdown",
   "metadata": {},
   "source": [
    "Tabelas temporárias podem ser criadas para ajudar nas tarefas de manipulação de dados. Essas tabelas existem apenas pela duração da sessão. Para criar uma tabela temporária, basta adicionar a palavra-chave `TEMPORARY` no momento da criação.\n",
    "\n",
    "É comum criar tabelas temporárias à partir do resultado de comandos `SELECT`. Por exemplo, a seguinte query permite montar uma tabela temporária com os filmes que duram mais que 3 horas:"
   ]
  },
  {
   "cell_type": "code",
   "execution_count": null,
   "metadata": {},
   "outputs": [],
   "source": [
    "db(\"\"\"\n",
    "DROP TABLE IF EXISTS long_film\n",
    "\"\"\")\n",
    "\n",
    "db(\"\"\"\n",
    "CREATE TEMPORARY TABLE long_film \n",
    "    SELECT\n",
    "        *\n",
    "    FROM\n",
    "        film\n",
    "    WHERE\n",
    "        film.length > 180;\n",
    "\"\"\")"
   ]
  },
  {
   "cell_type": "markdown",
   "metadata": {},
   "source": [
    "Podemos verificar que a tabela `long_film` agora existe:"
   ]
  },
  {
   "cell_type": "code",
   "execution_count": null,
   "metadata": {
    "scrolled": true,
    "tags": []
   },
   "outputs": [],
   "source": [
    "db(\"DESCRIBE long_film\")"
   ]
  },
  {
   "cell_type": "code",
   "execution_count": null,
   "metadata": {},
   "outputs": [],
   "source": [
    "db(\"CALL sys.table_exists('sakila', 'long_film', @table_type);\")\n",
    "db(\"SELECT @table_type;\")"
   ]
  },
  {
   "cell_type": "markdown",
   "metadata": {},
   "source": [
    "Muito embora ela não apareça na lista de tabelas: isso é um bug do MySQL. (https://dev.mysql.com/worklog/task/?id=648)"
   ]
  },
  {
   "cell_type": "code",
   "execution_count": null,
   "metadata": {},
   "outputs": [],
   "source": [
    "db(\"SHOW TABLES\")"
   ]
  },
  {
   "cell_type": "markdown",
   "metadata": {},
   "source": [
    "Vamos listar o conteudo desta tabela:"
   ]
  },
  {
   "cell_type": "code",
   "execution_count": null,
   "metadata": {
    "tags": []
   },
   "outputs": [],
   "source": [
    "db(\"SELECT title FROM long_film\")"
   ]
  },
  {
   "cell_type": "markdown",
   "metadata": {},
   "source": [
    "Vamos apagar a tabela `long_film`:"
   ]
  },
  {
   "cell_type": "code",
   "execution_count": null,
   "metadata": {},
   "outputs": [],
   "source": [
    "db(\"DROP TABLE long_film\")"
   ]
  },
  {
   "cell_type": "markdown",
   "metadata": {},
   "source": [
    "### Vamos praticar"
   ]
  },
  {
   "cell_type": "markdown",
   "metadata": {},
   "source": [
    "- Crie uma tabela temporária `max_duration` que contém a duração máxima de filme para cada categoria. Apresente o id da categoria, seu nome e a duração máxima."
   ]
  },
  {
   "cell_type": "code",
   "execution_count": null,
   "metadata": {},
   "outputs": [],
   "source": [
    "# Executamos o DROP apenas localmente, sem enviar ao servidor\n",
    "db(\"DROP TABLE IF EXISTS max_duration\")\n",
    "\n",
    "sql_ex05 = \"\"\"\n",
    "CREATE TEMPORARY TABLE max_duration\n",
    "    SELECT category_id, name, MAX(length) AS max_len FROM film\n",
    "    JOIN film_category USING(film_id)\n",
    "    JOIN category USING(category_id)\n",
    "    GROUP BY category_id;\n",
    "\"\"\"\n",
    "\n",
    "db(sql_ex05)"
   ]
  },
  {
   "cell_type": "code",
   "execution_count": null,
   "metadata": {},
   "outputs": [],
   "source": [
    "ia.sender(answer=\"sql_ex05\", task=\"views\", question=\"ex05\", answer_type=\"pyvar\")"
   ]
  },
  {
   "cell_type": "markdown",
   "metadata": {},
   "source": [
    " - Verifique a tabela."
   ]
  },
  {
   "cell_type": "code",
   "execution_count": null,
   "metadata": {},
   "outputs": [],
   "source": [
    "db(\"SELECT * FROM max_duration\")"
   ]
  },
  {
   "cell_type": "code",
   "execution_count": null,
   "metadata": {},
   "outputs": [],
   "source": [
    "db(\"DESCRIBE max_duration\")"
   ]
  },
  {
   "cell_type": "markdown",
   "metadata": {},
   "source": [
    "- Agora use a tabela temporária para construir uma consulta com as categorias e seus respectivos filmes mais longos:"
   ]
  },
  {
   "cell_type": "code",
   "execution_count": null,
   "metadata": {},
   "outputs": [],
   "source": [
    "db(\"\"\"\n",
    "SELECT\n",
    "    category_id, name, film_id, title, length\n",
    "FROM\n",
    "    film\n",
    "    INNER JOIN film_category USING (film_id)\n",
    "    INNER JOIN max_duration USING (category_id)\n",
    "WHERE\n",
    "    length = max_len\n",
    "\"\"\")"
   ]
  },
  {
   "cell_type": "markdown",
   "metadata": {},
   "source": [
    "- delete a tabela temporária"
   ]
  },
  {
   "cell_type": "code",
   "execution_count": null,
   "metadata": {},
   "outputs": [],
   "source": [
    "db(\"\"\"\n",
    "DROP TABLE max_duration\n",
    "\"\"\")"
   ]
  },
  {
   "cell_type": "markdown",
   "metadata": {
    "tags": []
   },
   "source": [
    "## Variáveis\n",
    "\n",
    "Podemos montar uma query que retorne um valor só e armazenar este valor em uma variável, para uso posterior em outras queries. Para isso vamos usar o prefixo '@' para indicar variáveis, e o comando `SELECT ... INTO`.\n",
    "\n",
    "Exemplo: quais são os filmes \"caros\" da nossa base sakila? Vamos descobrir quais filmes custam mais que um desvio padrão acima da média de preços de locação.\n",
    "\n",
    "Primeiro vamos calcular a média e o desvio padrão dos preços de aluguel:"
   ]
  },
  {
   "cell_type": "code",
   "execution_count": null,
   "metadata": {},
   "outputs": [],
   "source": [
    "db(\"\"\"\n",
    "SELECT \n",
    "    AVG(rental_rate), \n",
    "    STDDEV(rental_rate)\n",
    "INTO \n",
    "    @avg_rate, \n",
    "    @stddev_rate \n",
    "FROM\n",
    "    film;\n",
    "\"\"\")"
   ]
  },
  {
   "cell_type": "markdown",
   "metadata": {},
   "source": [
    "Note que a query não retorna um resultado: o resultado foi armazenado direto nas variáveis `@avg_rate` e `@stddev_rate`. Vamos usar um `SELECT` sem tabelas para ver o resultado:"
   ]
  },
  {
   "cell_type": "code",
   "execution_count": null,
   "metadata": {},
   "outputs": [],
   "source": [
    "db(\"SELECT @avg_rate, @stddev_rate\")"
   ]
  },
  {
   "cell_type": "markdown",
   "metadata": {},
   "source": [
    "Agora podemos selecionar os filmes caros!"
   ]
  },
  {
   "cell_type": "code",
   "execution_count": null,
   "metadata": {
    "tags": []
   },
   "outputs": [],
   "source": [
    "db(\"\"\"\n",
    "SELECT \n",
    "    title, rental_rate\n",
    "FROM\n",
    "    film\n",
    "WHERE\n",
    "    rental_rate > @avg_rate + @stddev_rate\n",
    "LIMIT 10\n",
    "\"\"\")"
   ]
  },
  {
   "cell_type": "markdown",
   "metadata": {},
   "source": [
    "### Vamos praticar"
   ]
  },
  {
   "cell_type": "markdown",
   "metadata": {},
   "source": [
    "Armazene na variável temporária `max_films` a quantidade de filmes feitos pelo ator ou atriz que mais participou de filmes."
   ]
  },
  {
   "cell_type": "code",
   "execution_count": null,
   "metadata": {},
   "outputs": [],
   "source": [
    "db(\"\"\"\n",
    "SELECT COUNT(*) FROM film_actor\n",
    "GROUP BY actor_id\n",
    "\"\"\")"
   ]
  },
  {
   "cell_type": "code",
   "execution_count": null,
   "metadata": {},
   "outputs": [],
   "source": [
    "sql_ex06 = \"\"\"\n",
    "SELECT COUNT(*) as cnt\n",
    "INTO @max_films\n",
    "FROM film_actor\n",
    "GROUP BY actor_id\n",
    "ORDER BY cnt DESC\n",
    "LIMIT 1;\n",
    "\"\"\"\n",
    "\n",
    "db(sql_ex06)"
   ]
  },
  {
   "cell_type": "code",
   "execution_count": null,
   "metadata": {},
   "outputs": [],
   "source": [
    "db(\"\"\"\n",
    "SELECT @max_films\n",
    "\"\"\")"
   ]
  },
  {
   "cell_type": "code",
   "execution_count": 8,
   "metadata": {},
   "outputs": [
    {
     "data": {
      "application/vnd.jupyter.widget-view+json": {
       "model_id": "ccf320d4f8714e668b386cee1b66c17f",
       "version_major": 2,
       "version_minor": 0
      },
      "text/plain": [
       "interactive(children=(Button(description='Enviar ex06', style=ButtonStyle()), Output()), _dom_classes=('widget…"
      ]
     },
     "execution_count": 8,
     "metadata": {},
     "output_type": "execute_result"
    }
   ],
   "source": [
    "ia.sender(answer=\"sql_ex06\", task=\"views\", question=\"ex06\", answer_type=\"pyvar\")"
   ]
  },
  {
   "cell_type": "markdown",
   "metadata": {},
   "source": [
    "## Operador `IN`"
   ]
  },
  {
   "cell_type": "markdown",
   "metadata": {},
   "source": [
    "Suponha que desejamos listar todos os filmes dos 3 atores mais populares. Podemos começar listando os 3 atores mais populares:"
   ]
  },
  {
   "cell_type": "code",
   "execution_count": null,
   "metadata": {},
   "outputs": [],
   "source": [
    "db(\"\"\"\n",
    "SELECT \n",
    "    actor_id, first_name, last_name, COUNT(film_id) AS num_films\n",
    "FROM\n",
    "    actor\n",
    "    INNER JOIN film_actor USING (actor_id)\n",
    "GROUP BY \n",
    "    actor_id\n",
    "ORDER BY \n",
    "    num_films DESC\n",
    "LIMIT 3\n",
    "\"\"\")"
   ]
  },
  {
   "cell_type": "markdown",
   "metadata": {},
   "source": [
    "Vamos criar uma tabela temporária para guardar a informação de `actor_id` desses atores:"
   ]
  },
  {
   "cell_type": "code",
   "execution_count": null,
   "metadata": {},
   "outputs": [],
   "source": [
    "db(\"DROP TABLE IF EXISTS temp_pop_actors\")\n",
    "db(\"\"\"\n",
    "CREATE TEMPORARY TABLE temp_pop_actors\n",
    "    SELECT first_name, last_name, actor_id FROM\n",
    "        actor\n",
    "        INNER JOIN film_actor USING (actor_id)\n",
    "    GROUP BY \n",
    "        actor_id\n",
    "    ORDER BY \n",
    "        COUNT(film_id) DESC\n",
    "    LIMIT 3\n",
    "\"\"\")\n",
    "db(\"\"\"\n",
    "SELECT * from temp_pop_actors\n",
    "\"\"\")"
   ]
  },
  {
   "cell_type": "markdown",
   "metadata": {},
   "source": [
    "Por fim, vamos usar essa informação para listar os filmes dos atores populares:"
   ]
  },
  {
   "cell_type": "code",
   "execution_count": null,
   "metadata": {},
   "outputs": [],
   "source": [
    "db(\"\"\"\n",
    "SELECT DISTINCT\n",
    "    title\n",
    "FROM\n",
    "    film\n",
    "    INNER JOIN film_actor USING (film_id)\n",
    "WHERE\n",
    "    actor_id IN (SELECT actor_id FROM temp_pop_actors);\n",
    "\"\"\")"
   ]
  },
  {
   "cell_type": "markdown",
   "metadata": {},
   "source": [
    "Note o uso de *subqueries*!\n",
    "\n",
    "Não se esqueça de limpar tudo no final!"
   ]
  },
  {
   "cell_type": "code",
   "execution_count": null,
   "metadata": {},
   "outputs": [],
   "source": [
    "db(\"DROP TABLE temp_pop_actors\")"
   ]
  },
  {
   "cell_type": "markdown",
   "metadata": {},
   "source": [
    "### Vamos praticar"
   ]
  },
  {
   "cell_type": "markdown",
   "metadata": {},
   "source": [
    "Liste os atores (id, nome e sobrenome) que participaram dos 3 filmes mais rentáveis (aqueles que mais geraram receita para a locadora) ordenados pelo id do ator de modo crescente. Para isso, crie uma tabela temporária contendo o id do filme e a quantia total e use essa tabela para listar os atores."
   ]
  },
  {
   "cell_type": "code",
   "execution_count": null,
   "metadata": {},
   "outputs": [],
   "source": [
    "db(\"\"\"\n",
    "CREATE TEMPORARY TABLE profitable_films\n",
    "    SELECT film_id, SUM(amount) as amt FROM film\n",
    "    JOIN inventory USING(film_id)\n",
    "    JOIN rental USING(inventory_id)\n",
    "    JOIN payment USING(rental_id)\n",
    "    GROUP BY film_id\n",
    "    ORDER BY amt DESC\n",
    "    LIMIT 3;\n",
    "   \"\"\")"
   ]
  },
  {
   "cell_type": "code",
   "execution_count": null,
   "metadata": {},
   "outputs": [],
   "source": [
    "db(\"\"\"\n",
    "SELECT * from profitable_films\n",
    "\"\"\")"
   ]
  },
  {
   "cell_type": "code",
   "execution_count": null,
   "metadata": {},
   "outputs": [],
   "source": [
    "sql_ex07 = [\"\"\"\n",
    "CREATE TEMPORARY TABLE profitable_films\n",
    "    SELECT film_id, SUM(amount) as amt FROM film\n",
    "    JOIN inventory USING(film_id)\n",
    "    JOIN rental USING(inventory_id)\n",
    "    JOIN payment USING(rental_id)\n",
    "    GROUP BY film_id\n",
    "    ORDER BY amt DESC\n",
    "    LIMIT 3;\n",
    "\"\"\",\n",
    "\n",
    "\"\"\"\n",
    "SELECT DISTINCT actor_id, first_name, last_name FROM actor\n",
    "JOIN film_actor USING(actor_id)\n",
    "WHERE film_id IN (SELECT film_id FROM profitable_films)\n",
    "ORDER BY actor_id \n",
    "\"\"\"\n",
    "]\n",
    "\n",
    "ia.sender(answer=\"sql_ex07\", task=\"views\", question=\"ex07\", answer_type=\"pyvar\")"
   ]
  },
  {
   "cell_type": "markdown",
   "metadata": {},
   "source": [
    "## Subqueries"
   ]
  },
  {
   "cell_type": "markdown",
   "metadata": {},
   "source": [
    "Os tópicos discutidos acima poderiam ser resolvidos, em grande parte, com subqueries. As subqueries são queries `SELECT` criadas dentro de outras queries. \n",
    "\n",
    "Poderíamos ter usado subqueries nos mesmos lugares onde usamos tabelas temporárias, nos tópicos acima. Quando a subquery pode ser transformada em uma tabela temporária independente, separada da query exterior, dizemos que a subquery é **não-correlacionada** com a query exterior.\n",
    "\n",
    "Usar subqueries não-correlacionadas é um tópico controverso: podemos sempre usar uma tabela temporária ou, ás vezes, pensar em um `JOIN` simples. Aliás, muitas vezes o otimizador de queries do banco de dados transformará a subquery em `JOIN`, se isso for vantajoso em termos de desempenho.\n",
    "\n",
    "Uma subquery que depende da query externa (e portanto não pode ser separada em uma tabela temporária independente) é chamada de **subquery correlacionada**. Nestes casos podemos ter que executar a subquery para cada linha da query exterior! "
   ]
  },
  {
   "cell_type": "markdown",
   "metadata": {},
   "source": [
    "### Vamos praticar"
   ]
  },
  {
   "cell_type": "markdown",
   "metadata": {},
   "source": [
    "Vamos refazer a atividade dos atores dos filmes mais rentáveis, usando subqueries. \n",
    "\n",
    "Temos um problema: o MySQL não suporta ``LIMIT`` em subqueries com o operador ``IN``. Vamos investigar isso mais de perto. \n",
    "\n",
    "Em primeiro lugar faça uma tradução direta da implementação da atividade anterior trocando tabela temporária por subquery."
   ]
  },
  {
   "cell_type": "code",
   "execution_count": null,
   "metadata": {},
   "outputs": [],
   "source": [
    "try:\n",
    "    db('''\n",
    "    SELECT DISTINCT actor_id, first_name, last_name FROM actor\n",
    "    JOIN film_actor USING(actor_id)\n",
    "    WHERE film_id IN (\n",
    "        SELECT film_id, SUM(amount) as amt FROM film\n",
    "        JOIN inventory USING(film_id)\n",
    "        JOIN rental USING(inventory_id)\n",
    "        JOIN payment USING(rental_id)\n",
    "        GROUP BY film_id\n",
    "        ORDER BY amt DESC\n",
    "        LIMIT 3\n",
    "    )\n",
    "    ORDER BY actor_id \n",
    "    ''')\n",
    "except mysql.connector.ProgrammingError as e:\n",
    "    print(f'ProgrammingError: {e}')"
   ]
  },
  {
   "cell_type": "markdown",
   "metadata": {},
   "source": [
    "Ok, apareceu o problema. Mas considere que o problema original não precisava de IN desde o começo! Construa essa solução."
   ]
  },
  {
   "cell_type": "code",
   "execution_count": null,
   "metadata": {},
   "outputs": [],
   "source": [
    "sql_ex08 = \"\"\"\n",
    "SELECT DISTINCT actor_id, first_name, last_name FROM actor\n",
    "JOIN film_actor USING(actor_id)\n",
    "JOIN (\n",
    "    SELECT film_id, SUM(amount) as amt FROM film\n",
    "    JOIN inventory USING(film_id)\n",
    "    JOIN rental USING(inventory_id)\n",
    "    JOIN payment USING(rental_id)\n",
    "    GROUP BY film_id\n",
    "    ORDER BY amt DESC\n",
    "    LIMIT 3\n",
    ") AS top_films USING(film_id)\n",
    "ORDER BY actor_id \n",
    "\"\"\"\n",
    "\n",
    "db(sql_ex08)"
   ]
  },
  {
   "cell_type": "code",
   "execution_count": null,
   "metadata": {},
   "outputs": [],
   "source": [
    "ia.sender(answer=\"sql_ex08\", task=\"views\", question=\"ex08\", answer_type=\"pyvar\")"
   ]
  },
  {
   "cell_type": "markdown",
   "metadata": {},
   "source": [
    "# `UNION`\n",
    "\n",
    "Quando duas tabelas tem **EXATAMENTE** as mesmas colunas, podemos concatená-las e formar uma grande tabela unificada usando o operador `UNION`. Por exemplo: suponha que desejamos montar uma lista dos nomes e sobrenomes de todos os clientes E de todos os funcionários. Eis uma solução possível:"
   ]
  },
  {
   "cell_type": "code",
   "execution_count": null,
   "metadata": {},
   "outputs": [],
   "source": [
    "db(\"DROP TABLE IF EXISTS nomes_clientes\")\n",
    "db(\"\"\"\n",
    "CREATE TEMPORARY TABLE nomes_clientes \n",
    "    SELECT first_name, last_name FROM customer\n",
    "\"\"\")"
   ]
  },
  {
   "cell_type": "code",
   "execution_count": null,
   "metadata": {},
   "outputs": [],
   "source": [
    "db(\"DESCRIBE nomes_clientes\")\n",
    "db(\"SELECT * FROM nomes_clientes LIMIT 5\")"
   ]
  },
  {
   "cell_type": "code",
   "execution_count": null,
   "metadata": {},
   "outputs": [],
   "source": [
    "db(\"DROP TABLE IF EXISTS nomes_staff\")\n",
    "db(\"\"\"\n",
    "CREATE TEMPORARY TABLE nomes_staff \n",
    "    SELECT first_name, last_name FROM staff\n",
    "\"\"\")"
   ]
  },
  {
   "cell_type": "code",
   "execution_count": null,
   "metadata": {},
   "outputs": [],
   "source": [
    "db(\"DESCRIBE nomes_staff\")\n",
    "db(\"SELECT * FROM nomes_staff LIMIT 5\")"
   ]
  },
  {
   "cell_type": "code",
   "execution_count": null,
   "metadata": {},
   "outputs": [],
   "source": [
    "db(\"DROP TABLE IF EXISTS nomes_all\")\n",
    "db(\"\"\"\n",
    "CREATE TEMPORARY TABLE nomes_all \n",
    "    (SELECT * FROM nomes_staff)\n",
    "    UNION \n",
    "    (SELECT * FROM nomes_clientes)\n",
    "\"\"\")"
   ]
  },
  {
   "cell_type": "code",
   "execution_count": null,
   "metadata": {},
   "outputs": [],
   "source": [
    "db(\"DESCRIBE nomes_all\")\n",
    "db(\"SELECT * FROM nomes_all LIMIT 5\")"
   ]
  },
  {
   "cell_type": "code",
   "execution_count": null,
   "metadata": {},
   "outputs": [],
   "source": [
    "db(\"DROP TABLE IF EXISTS nomes_clientes\")\n",
    "db(\"DROP TABLE IF EXISTS nomes_staff\")\n",
    "db(\"DROP TABLE IF EXISTS nomes_all\")"
   ]
  },
  {
   "cell_type": "markdown",
   "metadata": {},
   "source": [
    "**Vamos praticar:** refaça o exemplo acima mas use *subqueries* ao invés de *temp tables*. Ordene de forma ascendente por first_name e last_name."
   ]
  },
  {
   "cell_type": "code",
   "execution_count": null,
   "metadata": {},
   "outputs": [],
   "source": [
    "sql_ex09 = \"\"\"\n",
    "SELECT * FROM (\n",
    "    SELECT first_name, last_name FROM customer\n",
    "    UNION\n",
    "    SELECT first_name, last_name FROM staff\n",
    ") as combined_people\n",
    "ORDER BY first_name, last_name;\n",
    "\"\"\"\n",
    "\n",
    "db(sql_ex09)"
   ]
  },
  {
   "cell_type": "code",
   "execution_count": null,
   "metadata": {},
   "outputs": [],
   "source": [
    "ia.sender(answer=\"sql_ex09\", task=\"views\", question=\"ex09\", answer_type=\"pyvar\")"
   ]
  },
  {
   "cell_type": "markdown",
   "metadata": {},
   "source": [
    "## Desafios!"
   ]
  },
  {
   "cell_type": "markdown",
   "metadata": {},
   "source": [
    "Faça uma lista de filmes que tenham mais de dois atores cujo nome inicia com a mesma letra do título do filme! Apresente o nome e a quantidade de atores. Ordene pelo id do filme. Dica: Pesquie a função `LEFT`"
   ]
  },
  {
   "cell_type": "code",
   "execution_count": null,
   "metadata": {},
   "outputs": [],
   "source": [
    "sql_ex10 = \"\"\"\n",
    "SELECT title, COUNT(*) as cnt FROM film\n",
    "JOIN film_actor USING(film_id)\n",
    "JOIN actor USING(actor_id)\n",
    "WHERE LEFT(first_name, 1) = LEFT(title, 1)\n",
    "GROUP BY film_id\n",
    "HAVING cnt > 2 \n",
    "\"\"\"\n",
    "db(sql_ex10)"
   ]
  },
  {
   "cell_type": "code",
   "execution_count": null,
   "metadata": {},
   "outputs": [],
   "source": [
    "ia.sender(answer=\"sql_ex10\", task=\"views\", question=\"ex10\", answer_type=\"pyvar\")"
   ]
  },
  {
   "cell_type": "markdown",
   "metadata": {},
   "source": [
    "Semana do \"DAN HARRIS\": liste os clientes (nome e sobrenome) que nunca assistiram um filme do ator \"DAN HARRIS\" ou que já assistiram mas a ultima vez em que assistiram um filme dele foi antes de '2005-06-01'. Ordene pelo nome e sobrenome do cliente.\n",
    "\n",
    "Considerem que a pessoa pode ter assistido um filme de Dan Harris se:\n",
    "\n",
    "- Devolveu em 2005-06-01 ou depois\n",
    "- Alugou em 2005-06-01 ou depois\n",
    "- Alugou antes de 2005-06-01 e ainda não devolveu"
   ]
  },
  {
   "cell_type": "code",
   "execution_count": 12,
   "metadata": {},
   "outputs": [
    {
     "name": "stdout",
     "output_type": "stream",
     "text": [
      "Executando query:\n",
      "('AARON', 'SELBY')\n",
      "('AGNES', 'BISHOP')\n",
      "('ALEXANDER', 'FENNELL')\n",
      "('ALICE', 'STEWART')\n",
      "('ALICIA', 'MILLS')\n",
      "('ALLEN', 'BUTTERFIELD')\n",
      "('ALLISON', 'STANLEY')\n",
      "('ALMA', 'AUSTIN')\n",
      "('AMANDA', 'CARTER')\n",
      "('AMY', 'LOPEZ')\n",
      "('ANDREA', 'HENDERSON')\n",
      "('ANDY', 'VANHORN')\n",
      "('ANGEL', 'BARCLAY')\n",
      "('ANGELA', 'HERNANDEZ')\n",
      "('ANN', 'EVANS')\n",
      "('ANTONIO', 'MEEK')\n",
      "('ARLENE', 'HARVEY')\n",
      "('ARMANDO', 'GRUBER')\n",
      "('ARTHUR', 'SIMPKINS')\n",
      "('BARRY', 'LOVELACE')\n",
      "('BEATRICE', 'ARNOLD')\n",
      "('BECKY', 'MILES')\n",
      "('BESSIE', 'MORRISON')\n",
      "('BETTY', 'WHITE')\n",
      "('BEVERLY', 'BROOKS')\n",
      "('BILLY', 'POULIN')\n",
      "('BOB', 'PFEIFFER')\n",
      "('BOBBIE', 'CRAIG')\n",
      "('BOBBY', 'BOUDREAU')\n",
      "('BONNIE', 'HUGHES')\n",
      "('BRAD', 'MCCURDY')\n",
      "('BRETT', 'CORNWELL')\n",
      "('BRUCE', 'SCHWARZ')\n",
      "('CARL', 'ARTIS')\n",
      "('CARLOS', 'COUGHLIN')\n",
      "('CARMEN', 'OWENS')\n",
      "('CAROL', 'GARCIA')\n",
      "('CAROLE', 'BARNETT')\n",
      "('CASSANDRA', 'WALTERS')\n",
      "('CATHERINE', 'CAMPBELL')\n",
      "('CHAD', 'CARBONE')\n",
      "('CHARLIE', 'BESS')\n",
      "('CHARLOTTE', 'HUNTER')\n",
      "('CHERYL', 'MURPHY')\n",
      "('CHESTER', 'BENNER')\n",
      "('CHRIS', 'BROTHERS')\n",
      "('CHRISTINE', 'ROBERTS')\n",
      "('CHRISTOPHER', 'GRECO')\n",
      "('CINDY', 'FISHER')\n",
      "('CLARA', 'SHAW')\n",
      "('CLARENCE', 'GAMEZ')\n",
      "('CLAUDE', 'HERZOG')\n",
      "('CLAYTON', 'BARBEE')\n",
      "('CLIFFORD', 'BOWENS')\n",
      "('CLINTON', 'BUFORD')\n",
      "('CODY', 'NOLEN')\n",
      "('COLLEEN', 'BURTON')\n",
      "('CONSTANCE', 'REID')\n",
      "('COREY', 'HAUSER')\n",
      "('COURTNEY', 'DAY')\n",
      "('CRAIG', 'MORRELL')\n",
      "('CRYSTAL', 'FORD')\n",
      "('CYNTHIA', 'YOUNG')\n",
      "('DANA', 'HART')\n",
      "('DANIEL', 'CABRAL')\n",
      "('DANNY', 'ISOM')\n",
      "('DARLENE', 'ROSE')\n",
      "('DAVE', 'GARDINER')\n",
      "('DAVID', 'ROYAL')\n",
      "('DAWN', 'SULLIVAN')\n",
      "('DEANNA', 'BYRD')\n",
      "('DELORES', 'HANSEN')\n",
      "('DERRICK', 'BOURQUE')\n",
      "('DIANE', 'COLLINS')\n",
      "('DONALD', 'MAHON')\n",
      "('DONNA', 'THOMPSON')\n",
      "('DORA', 'MEDINA')\n",
      "('DORIS', 'REED')\n",
      "('DOUGLAS', 'GRAF')\n",
      "('DWAYNE', 'OLVERA')\n",
      "('EDGAR', 'RHOADS')\n",
      "('EDITH', 'MCDONALD')\n",
      "('EDNA', 'WEST')\n",
      "('EDUARDO', 'HIATT')\n",
      "('ELAINE', 'STEVENS')\n",
      "('ELEANOR', 'HUNT')\n",
      "('ELIZABETH', 'BROWN')\n",
      "('ELLA', 'OLIVER')\n",
      "('ELLEN', 'SIMPSON')\n",
      "('ELSIE', 'KELLEY')\n",
      "('ENRIQUE', 'FORSYTHE')\n",
      "('ERIC', 'ROBERT')\n",
      "('ERIK', 'GUILLEN')\n",
      "('EUGENE', 'CULPEPPER')\n",
      "('FELIX', 'GAFFNEY')\n",
      "('FERNANDO', 'CHURCHILL')\n",
      "('FLOYD', 'GANDY')\n",
      "('FRANCES', 'PARKER')\n",
      "('FRED', 'WHEAT')\n",
      "('FREDDIE', 'DUGGAN')\n",
      "('FREDERICK', 'ISBELL')\n",
      "('GAIL', 'KNIGHT')\n",
      "('GENE', 'SANBORN')\n",
      "('GEORGE', 'LINTON')\n",
      "('GEORGIA', 'JACOBS')\n",
      "('GERALDINE', 'PERKINS')\n",
      "('GERTRUDE', 'CASTILLO')\n",
      "('GINA', 'WILLIAMSON')\n",
      "('GLENDA', 'FRAZIER')\n",
      "('GLENN', 'PULLEN')\n",
      "('GLORIA', 'COOK')\n",
      "('GORDON', 'ALLARD')\n",
      "('GRACE', 'ELLIS')\n",
      "('GREG', 'ROBINS')\n",
      "('HARRY', 'ARCE')\n",
      "('HARVEY', 'GUAJARDO')\n",
      "('HAZEL', 'WARREN')\n",
      "('HEATHER', 'MORRIS')\n",
      "('HENRY', 'BILLINGSLEY')\n",
      "('HILDA', 'HOPKINS')\n",
      "('HUGH', 'WALDROP')\n",
      "('IDA', 'ANDREWS')\n",
      "('ISAAC', 'OGLESBY')\n",
      "('JAMIE', 'WAUGH')\n",
      "('JANE', 'BENNETT')\n",
      "('JANET', 'PHILLIPS')\n",
      "('JARED', 'ELY')\n",
      "('JASON', 'MORRISSEY')\n",
      "('JAVIER', 'ELROD')\n",
      "('JEAN', 'BELL')\n",
      "('JEFFERY', 'PINSON')\n",
      "('JENNIE', 'TERRY')\n",
      "('JENNIFER', 'DAVIS')\n",
      "('JENNY', 'CASTRO')\n",
      "('JEREMY', 'HURTADO')\n",
      "('JESSIE', 'BANKS')\n",
      "('JESSIE', 'MILAM')\n",
      "('JILL', 'HAWKINS')\n",
      "('JIM', 'REA')\n",
      "('JO', 'FOWLER')\n",
      "('JOANNE', 'ROBERTSON')\n",
      "('JON', 'WILES')\n",
      "('JOSEPH', 'JOY')\n",
      "('JOSEPHINE', 'GOMEZ')\n",
      "('JOY', 'GEORGE')\n",
      "('JOYCE', 'EDWARDS')\n",
      "('JUAN', 'FRALEY')\n",
      "('JUANITA', 'MASON')\n",
      "('JUDITH', 'COX')\n",
      "('JULIA', 'FLORES')\n",
      "('JULIAN', 'VEST')\n",
      "('JULIO', 'NOLAND')\n",
      "('JUNE', 'CARROLL')\n",
      "('JUSTIN', 'NGO')\n",
      "('KARL', 'SEAL')\n",
      "('KATHLEEN', 'ADAMS')\n",
      "('KATHRYN', 'COLEMAN')\n",
      "('KATHY', 'JAMES')\n",
      "('KATIE', 'ELLIOTT')\n",
      "('KAY', 'CALDWELL')\n",
      "('KEITH', 'RICO')\n",
      "('KEVIN', 'SCHULER')\n",
      "('KIRK', 'STCLAIR')\n",
      "('KRISTEN', 'CHAVEZ')\n",
      "('KURT', 'EMMONS')\n",
      "('KYLE', 'SPURLOCK')\n",
      "('LAUREN', 'HUDSON')\n",
      "('LEAH', 'CURTIS')\n",
      "('LEE', 'HAWKS')\n",
      "('LEON', 'BOSTIC')\n",
      "('LEONA', 'OBRIEN')\n",
      "('LEONARD', 'SCHOFIELD')\n",
      "('LEROY', 'BUSTAMANTE')\n",
      "('LESLIE', 'GORDON')\n",
      "('LESTER', 'KRAUS')\n",
      "('LILLIAN', 'GRIFFIN')\n",
      "('LOUIS', 'LEONE')\n",
      "('LOUISE', 'JENKINS')\n",
      "('LUCILLE', 'HOLMES')\n",
      "('LYDIA', 'BURKE')\n",
      "('MABEL', 'HOLLAND')\n",
      "('MAE', 'FLETCHER')\n",
      "('MANUEL', 'MURRELL')\n",
      "('MARC', 'OUTLAW')\n",
      "('MARCIA', 'DEAN')\n",
      "('MARGIE', 'WADE')\n",
      "('MARIA', 'MILLER')\n",
      "('MARIAN', 'MENDOZA')\n",
      "('MARIE', 'TURNER')\n",
      "('MARIO', 'CHEATHAM')\n",
      "('MARK', 'RINEHART')\n",
      "('MARLENE', 'WELCH')\n",
      "('MARSHA', 'DOUGLAS')\n",
      "('MARTIN', 'BALES')\n",
      "('MARVIN', 'YEE')\n",
      "('MATHEW', 'BOLIN')\n",
      "('MATTHEW', 'MAHAN')\n",
      "('MATTIE', 'HOFFMAN')\n",
      "('MEGAN', 'PALMER')\n",
      "('MELINDA', 'FERNANDEZ')\n",
      "('MICHAEL', 'SILVERMAN')\n",
      "('MICHEAL', 'FORMAN')\n",
      "('MICHELLE', 'CLARK')\n",
      "('MIGUEL', 'BETANCOURT')\n",
      "('MIKE', 'WAY')\n",
      "('MINNIE', 'ROMERO')\n",
      "('MISTY', 'LAMBERT')\n",
      "('MONICA', 'HICKS')\n",
      "('MORRIS', 'MCCARTER')\n",
      "('NAOMI', 'JENNINGS')\n",
      "('NATHANIEL', 'ADAM')\n",
      "('NEIL', 'RENNER')\n",
      "('NELLIE', 'GARRETT')\n",
      "('NELSON', 'CHRISTENSON')\n",
      "('NORA', 'HERRERA')\n",
      "('NORMAN', 'CURRIER')\n",
      "('OSCAR', 'AQUINO')\n",
      "('PAMELA', 'BAKER')\n",
      "('PATRICIA', 'JOHNSON')\n",
      "('PAULA', 'BRYANT')\n",
      "('PEDRO', 'CHESTNUT')\n",
      "('PHYLLIS', 'FOSTER')\n",
      "('RACHEL', 'BARNES')\n",
      "('RAFAEL', 'ABNEY')\n",
      "('RAMONA', 'HALE')\n",
      "('RANDALL', 'NEUMANN')\n",
      "('RANDY', 'GAITHER')\n",
      "('RAUL', 'FORTIER')\n",
      "('RAY', 'HOULE')\n",
      "('RAYMOND', 'MCWHORTER')\n",
      "('REGINA', 'BERRY')\n",
      "('RENEE', 'LANE')\n",
      "('RICARDO', 'MEADOR')\n",
      "('RICHARD', 'MCCRARY')\n",
      "('RICK', 'MATTOX')\n",
      "('RICKY', 'SHELBY')\n",
      "('ROBERT', 'BAUGHMAN')\n",
      "('ROBERTA', 'HARPER')\n",
      "('ROBERTO', 'VU')\n",
      "('ROBIN', 'HAYES')\n",
      "('ROGER', 'QUINTANILLA')\n",
      "('RONNIE', 'RICKETTS')\n",
      "('ROSA', 'REYNOLDS')\n",
      "('ROSE', 'HOWARD')\n",
      "('ROSEMARY', 'SCHMIDT')\n",
      "('ROSS', 'GREY')\n",
      "('RUBEN', 'GEARY')\n",
      "('RUTH', 'MARTINEZ')\n",
      "('SALLY', 'PIERCE')\n",
      "('SAM', 'MCDUFFIE')\n",
      "('SANDRA', 'MARTIN')\n",
      "('SARA', 'PERRY')\n",
      "('SARAH', 'LEWIS')\n",
      "('SERGIO', 'STANFIELD')\n",
      "('SHAWN', 'HEATON')\n",
      "('SHEILA', 'WELLS')\n",
      "('SHERRI', 'RHODES')\n",
      "('SHERRY', 'MARSHALL')\n",
      "('STACEY', 'MONTGOMERY')\n",
      "('STELLA', 'MORENO')\n",
      "('STEVE', 'MACKENZIE')\n",
      "('STEVEN', 'CURLEY')\n",
      "('SUE', 'PETERS')\n",
      "('SYLVIA', 'ORTIZ')\n",
      "('TAMMY', 'SANDERS')\n",
      "('TANYA', 'GILBERT')\n",
      "('TARA', 'RYAN')\n",
      "('TED', 'BREAUX')\n",
      "('TERESA', 'ROGERS')\n",
      "('THEODORE', 'CULP')\n",
      "('THERESA', 'WATSON')\n",
      "('TIM', 'CARY')\n",
      "('TIMOTHY', 'BUNN')\n",
      "('TOMMY', 'COLLAZO')\n",
      "('TONY', 'CARRANZA')\n",
      "('TONYA', 'CHAPMAN')\n",
      "('TRACY', 'COLE')\n",
      "('TRACY', 'HERRMANN')\n",
      "('TRAVIS', 'ESTEP')\n",
      "('TROY', 'QUIGLEY')\n",
      "('TYLER', 'WREN')\n",
      "('VALERIE', 'BLACK')\n",
      "('VERONICA', 'STONE')\n",
      "('VICKIE', 'BREWER')\n",
      "('VICTOR', 'BARKLEY')\n",
      "('VINCENT', 'RALSTON')\n",
      "('VIOLA', 'HANSON')\n",
      "('VIRGINIA', 'GREEN')\n",
      "('VIVIAN', 'RUIZ')\n",
      "('WALLACE', 'SLONE')\n",
      "('WANDA', 'PATTERSON')\n",
      "('WARREN', 'SHERROD')\n",
      "('WESLEY', 'BULL')\n",
      "('WILLARD', 'LUMPKIN')\n",
      "('WILLIE', 'HOWELL')\n",
      "('ZACHARY', 'HITE')\n"
     ]
    }
   ],
   "source": [
    "sql_ex11 = \"\"\"\n",
    "SELECT DISTINCT c.first_name, c.last_name FROM customer AS c\n",
    "JOIN rental USING(customer_id)\n",
    "JOIN inventory USING(inventory_id)\n",
    "JOIN film USING(film_id)\n",
    "JOIN film_actor USING(film_id)\n",
    "JOIN actor USING(actor_id)\n",
    "WHERE NOT (\n",
    "    (return_date >= \"2005-06-01\") OR \n",
    "    (rental_date >= \"2005-06-01\") OR\n",
    "    (rental_date < \"2005-06-01\" AND return_date is NULL)\n",
    ")\n",
    "ORDER BY c.first_name, c.last_name;\n",
    "\"\"\""
   ]
  },
  {
   "cell_type": "code",
   "execution_count": 13,
   "metadata": {},
   "outputs": [
    {
     "data": {
      "application/vnd.jupyter.widget-view+json": {
       "model_id": "6716e5d2448c4bbc96b14d222e18ee6d",
       "version_major": 2,
       "version_minor": 0
      },
      "text/plain": [
       "interactive(children=(Button(description='Enviar ex11', style=ButtonStyle()), Output()), _dom_classes=('widget…"
      ]
     },
     "execution_count": 13,
     "metadata": {},
     "output_type": "execute_result"
    }
   ],
   "source": [
    "ia.sender(answer=\"sql_ex11\", task=\"views\", question=\"ex11\", answer_type=\"pyvar\")"
   ]
  },
  {
   "cell_type": "markdown",
   "metadata": {},
   "source": [
    "- Faça uma consulta que retorne, para cada ator, a seguinte informação:\n",
    "\n",
    "| first_name | last_name | filmes por categoria |\n",
    "|--|--|--|\n",
    "| PENELOPE | GUINESS | Animation: ANACONDA CONFESSIONS; Children: LANGUAGE COWBOY; Classics: COLOR PHILADELPHIA, WESTWARD SEABISCUIT; Comedy: VERTIGO NORTHWEST; Documentary: ACADEMY DINOSAUR; Family: KING EVOLUTION, SPLASH GUMP; Foreign: MULHOLLAND BEAST; Games: BULWORTH COMMANDMENTS, HUMAN GRAFFITI; Horror: ELEPHANT TROJAN, LADY STAGE, RULES HUMAN; Music: WIZARD COLDBLOODED; New: ANGELS LIFE, OKLAHOMA JUMANJI; Sci-Fi: CHEAPER CLYDE; Sports: GLEAMING JAWBREAKER |\n",
    "| NICK | WAHLBERG | Action: BULL SHAWSHANK; Animation: FIGHT JAWBREAKER; Children: JERSEY SASSY; Classics: DRACULA CRYSTAL, GILBERT PELICAN; Comedy: MALLRATS UNITED, RUSHMORE MERMAID; Documentary: ADAPTATION HOLES; Drama: WARDROBE PHANTOM; Family: APACHE DIVINE, CHISUM BEHAVIOR, INDIAN LOVE, MAGUIRE APACHE; Foreign: BABY HALL, HAPPINESS UNITED; Games: ROOF CHAMPION; Music: LUCKY FLYING; New: DESTINY SATURDAY, FLASH WARS, JEKYLL FROGMEN, MASK PEACH; Sci-Fi: CHAINSAW UPTOWN, GOODFELLAS SALUTE; Travel: LIAISONS SWEET, SMILE EARRING |\n",
    "| etc | etc | etc |\n",
    "\n",
    "Ordene pelo nome e sobrenome do ator.\n",
    "\n",
    "Dica: use `GROUP_CONCAT` para agrupar todas as strings de uma coluna em uma string só, e `CONCAT` para unir strings particulares."
   ]
  },
  {
   "cell_type": "code",
   "execution_count": null,
   "metadata": {},
   "outputs": [],
   "source": [
    "db(\"\"\"\n",
    "SELECT first_name, last_name, CONCAT(category.name, \": \", GROUP_CONCAT(film.title ORDER BY film.title SEPARATOR \", \")) AS filmes_por_categoria FROM actor\n",
    "    JOIN film_actor USING(actor_id)\n",
    "    JOIN film USING(film_id)\n",
    "    JOIN film_category USING(film_id)\n",
    "    JOIN category USING(category_id)\n",
    "    GROUP BY actor_id, category_id\n",
    "\"\"\")"
   ]
  },
  {
   "cell_type": "code",
   "execution_count": 9,
   "metadata": {},
   "outputs": [],
   "source": [
    "sql_ex12 = \"\"\"\n",
    "SELECT first_name, last_name, GROUP_CONCAT(filmes_por_categoria ORDER BY filmes_por_categoria SEPARATOR \"; \") FROM (\n",
    "    SELECT actor_id, first_name, last_name, CONCAT(category.name, \": \", GROUP_CONCAT(film.title ORDER BY film.title SEPARATOR \", \")) AS filmes_por_categoria FROM actor\n",
    "    JOIN film_actor USING(actor_id)\n",
    "    JOIN film USING(film_id)\n",
    "    JOIN film_category USING(film_id)\n",
    "    JOIN category USING(category_id)\n",
    "    GROUP BY actor_id, category_id \n",
    ") AS filmes_do_autor\n",
    "GROUP BY actor_id\n",
    "ORDER BY first_name, last_name\n",
    "\"\"\""
   ]
  },
  {
   "cell_type": "code",
   "execution_count": 11,
   "metadata": {},
   "outputs": [
    {
     "data": {
      "application/vnd.jupyter.widget-view+json": {
       "model_id": "45358683b0d947b9871210ea4c9ab195",
       "version_major": 2,
       "version_minor": 0
      },
      "text/plain": [
       "interactive(children=(Button(description='Enviar ex12', style=ButtonStyle()), Output()), _dom_classes=('widget…"
      ]
     },
     "execution_count": 11,
     "metadata": {},
     "output_type": "execute_result"
    }
   ],
   "source": [
    "ia.sender(answer=\"sql_ex12\", task=\"views\", question=\"ex12\", answer_type=\"pyvar\")"
   ]
  },
  {
   "cell_type": "markdown",
   "metadata": {},
   "source": [
    "## Conclusão"
   ]
  },
  {
   "cell_type": "markdown",
   "metadata": {},
   "source": [
    "Façamos uma pausa para apreciar quão longe estamos: já conseguimos criar nossas tabelas, inserir informação, removê-la, atualizá-la, e consultar nossa base de maneiras bem sofisticadas! Vimos desde `SELECT` simples até buscas mais complexas envolvendo várias etapas de processamento para obter o dado desejado.\n",
    "\n",
    "Por hoje é só, feche sua conexão e bom descanso!"
   ]
  },
  {
   "cell_type": "code",
   "execution_count": null,
   "metadata": {},
   "outputs": [],
   "source": [
    "connection.close()"
   ]
  },
  {
   "cell_type": "markdown",
   "metadata": {},
   "source": [
    "## Conferir Notas\n",
    "\n",
    "Confira se as notas na atividade são as esperadas!\n",
    "\n",
    "Primeiro na atividade atual!"
   ]
  },
  {
   "cell_type": "code",
   "execution_count": null,
   "metadata": {},
   "outputs": [],
   "source": [
    "ia.grades(by=\"TASK\", task=\"views\")"
   ]
  },
  {
   "cell_type": "code",
   "execution_count": null,
   "metadata": {},
   "outputs": [],
   "source": [
    "ia.grades(task=\"views\")"
   ]
  },
  {
   "cell_type": "code",
   "execution_count": null,
   "metadata": {},
   "outputs": [],
   "source": [
    "ia.grades(by=\"task\")"
   ]
  }
 ],
 "metadata": {
  "kernelspec": {
   "display_name": "Python 3 (ipykernel)",
   "language": "python",
   "name": "python3"
  },
  "language_info": {
   "codemirror_mode": {
    "name": "ipython",
    "version": 3
   },
   "file_extension": ".py",
   "mimetype": "text/x-python",
   "name": "python",
   "nbconvert_exporter": "python",
   "pygments_lexer": "ipython3",
   "version": "3.11.1"
  }
 },
 "nbformat": 4,
 "nbformat_minor": 4
}
