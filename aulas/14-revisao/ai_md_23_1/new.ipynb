{
 "cells": [
  {
   "cell_type": "markdown",
   "metadata": {},
   "source": [
    "\n",
    "### Nível Intermediário\n",
    "\n",
    "1. **Listagem de Clientes com Automóveis e Marcas**: Crie uma query que liste todos os clientes, incluindo o nome do cliente e os detalhes dos automóveis (modelo, marca e ano) que possuem. Ordene o resultado pelo nome do cliente.\n",
    "\n",
    "2. **Rastreadores Ativos**: Escreva uma query que selecione todos os rastreadores ativos, exibindo o tipo de rastreador, a marca e o modelo do automóvel associado, bem como o nome do cliente. Inclua apenas os rastreadores associados a automóveis travados (`travado` = 1).\n",
    "\n",
    "3. **Serviços Contratados por Cliente com Total**: Desenvolva uma query que liste cada cliente com os serviços contratados, incluindo o nome do serviço, a descrição, o preço base do serviço, e um total geral do preço dos serviços por cliente.\n",
    "\n",
    "### Nível Avançado\n",
    "\n",
    "4. **Eventos Recentes por Automóvel**: Crie uma query para listar os últimos eventos registrados de cada automóvel, incluindo latitude, longitude, velocidade, temperatura do motor e externa. A lista deve ser ordenada pelo momento do evento (`data`) de forma decrescente.\n",
    "\n",
    "5. **Análise de Velocidade Média por Tipo de Rastreador**: Elabore uma query que calcule a velocidade média registrada por cada tipo de rastreador, incluindo apenas registros com velocidade maior que zero. Agrupe o resultado por tipo de rastreador e ordene pela velocidade média de forma decrescente.\n",
    "\n",
    "6. **Clientes sem Serviços Ativos**: Crie uma query que identifique clientes que não possuem nenhum serviço ativo (`ativo` = 0 ou nulo) associado a seus automóveis. Liste o nome do cliente e o total de automóveis que possui.\n",
    "\n",
    "7. **Custo Total de Serviços por Marca de Automóvel**: Desenvolva uma query que some o preço base de todos os serviços ativos contratados para automóveis de cada marca, apresentando o nome da marca e o custo total dos serviços. Ordene o resultado pelo custo total decrescente.\n"
   ]
  },
  {
   "cell_type": "code",
   "execution_count": 1,
   "metadata": {},
   "outputs": [],
   "source": [
    "import mysql.connector\n",
    "from functools import partial\n",
    "import os\n",
    "import insperautograder.jupyter as ia\n",
    "from dotenv import load_dotenv"
   ]
  },
  {
   "cell_type": "code",
   "execution_count": 2,
   "metadata": {},
   "outputs": [],
   "source": [
    "load_dotenv(override=True)\n",
    "\n",
    "def get_connection_helper():\n",
    "\n",
    "    def run_db_query(connection, query, args=None):\n",
    "        with connection.cursor() as cursor:\n",
    "            print(\"Executando query:\")\n",
    "            cursor.execute(query, args)\n",
    "            for result in cursor:\n",
    "                print(result)\n",
    "\n",
    "    connection = mysql.connector.connect(\n",
    "        host=os.getenv(\"MD_DB_SERVER\"),\n",
    "        user=os.getenv(\"MD_DB_USERNAME\"),\n",
    "        password=os.getenv(\"MD_DB_PASSWORD\"),\n",
    "        database=\"cartracking\",\n",
    "    )\n",
    "    return connection, partial(run_db_query, connection)\n",
    "\n",
    "\n",
    "connection, db = get_connection_helper()"
   ]
  },
  {
   "cell_type": "markdown",
   "metadata": {},
   "source": [
    "4. **Eventos Recentes por Automóvel**: Crie uma query para listar os últimos eventos registrados de cada automóvel, incluindo latitude, longitude, velocidade, temperatura do motor e externa. A lista deve ser ordenada pelo momento do evento (`data`) de forma decrescente."
   ]
  },
  {
   "cell_type": "code",
   "execution_count": 34,
   "metadata": {},
   "outputs": [
    {
     "name": "stdout",
     "output_type": "stream",
     "text": [
      "Executando query:\n",
      "(5, 7, 2019, 4, 6, 1, 1, 1, 18, Decimal('-63.23788'), Decimal('-18.13235'), Decimal('400.00'), Decimal('33.8600'), Decimal('80.10'), Decimal('41.70'), datetime.datetime(2023, 2, 8, 11, 45))\n",
      "(5, 7, 2019, 4, 6, 1, 1, 1, 19, Decimal('-63.65456'), Decimal('-18.32556'), Decimal('402.00'), Decimal('0.0000'), Decimal('25.80'), Decimal('28.40'), datetime.datetime(2023, 2, 7, 11, 45))\n",
      "(5, 7, 2019, 4, 6, 1, 1, 1, 15, Decimal('-72.08521'), Decimal('-13.46708'), Decimal('3399.00'), Decimal('88.7000'), Decimal('89.92'), Decimal('33.40'), datetime.datetime(2023, 2, 6, 11, 45, 1))\n",
      "(5, 7, 2019, 4, 6, 1, 1, 1, 16, Decimal('-72.08521'), Decimal('-13.46708'), Decimal('3399.00'), Decimal('0.0000'), Decimal('19.40'), Decimal('19.30'), datetime.datetime(2023, 2, 5, 11, 45))\n",
      "(5, 7, 2019, 4, 6, 1, 1, 1, 17, Decimal('-63.23911'), Decimal('-18.27962'), Decimal('400.00'), Decimal('45.1300'), Decimal('82.74'), Decimal('36.10'), datetime.datetime(2023, 2, 4, 11, 45, 2))\n",
      "(5, 7, 2019, 4, 6, 1, 1, 1, 14, Decimal('-75.65464'), Decimal('-12.89799'), Decimal('0.00'), Decimal('77.5000'), Decimal('74.13'), Decimal('25.90'), datetime.datetime(2023, 2, 2, 11, 45))\n",
      "(1, 1, 2005, 4, 11, 0, 1, 1, 3, Decimal('-47.04609'), Decimal('-22.71835'), Decimal('652.00'), Decimal('89.9100'), Decimal('87.50'), Decimal('29.10'), datetime.datetime(2023, 1, 2, 19, 57, 3))\n",
      "(1, 1, 2005, 4, 11, 0, 1, 1, 5, Decimal('-47.15799'), Decimal('-22.11923'), Decimal('637.00'), Decimal('72.9000'), Decimal('90.10'), Decimal('30.30'), datetime.datetime(2023, 1, 2, 3, 0))\n",
      "(1, 1, 2005, 4, 11, 0, 1, 1, 4, Decimal('-47.12901'), Decimal('-22.52341'), Decimal('642.00'), Decimal('95.4000'), Decimal('90.20'), Decimal('30.50'), datetime.datetime(2023, 1, 2, 2, 0))\n",
      "(1, 1, 2005, 4, 11, 0, 1, 1, 2, Decimal('-46.56907'), Decimal('-23.51799'), Decimal('712.00'), Decimal('87.0000'), Decimal('89.20'), Decimal('29.20'), datetime.datetime(2023, 1, 1, 19, 52))\n",
      "(1, 1, 2005, 4, 11, 0, 1, 1, 1, Decimal('-46.56376'), Decimal('-23.51799'), Decimal('705.00'), Decimal('85.4200'), Decimal('85.70'), Decimal('29.10'), datetime.datetime(2023, 1, 1, 19, 47, 55))\n",
      "(8, 6, 2022, 5, 7, 0, 1, 0, 22, Decimal('-47.56549'), Decimal('-23.65654'), Decimal('651.00'), Decimal('40.4100'), Decimal('82.74'), Decimal('17.80'), datetime.datetime(2022, 12, 24, 16, 0, 2))\n",
      "(8, 6, 2022, 5, 7, 0, 1, 0, 21, Decimal('-46.56378'), Decimal('-23.51788'), Decimal('704.00'), Decimal('0.0000'), Decimal('22.10'), Decimal('19.54'), datetime.datetime(2022, 12, 23, 16, 0, 1))\n",
      "(8, 6, 2022, 5, 7, 0, 1, 0, 20, Decimal('-46.56378'), Decimal('-23.51788'), Decimal('704.00'), Decimal('0.0000'), Decimal('60.50'), Decimal('18.49'), datetime.datetime(2022, 12, 22, 16, 0))\n",
      "(3, 3, 2015, 4, 5, 0, 1, 1, 9, Decimal('-63.00327'), Decimal('-5.69254'), Decimal('47.00'), Decimal('145.7000'), Decimal('82.53'), Decimal('28.91'), datetime.datetime(2015, 8, 22, 7, 30))\n",
      "(4, 8, 2023, 5, 1, 0, 1, 1, 13, Decimal('-42.09981'), Decimal('-11.11891'), Decimal('900.00'), Decimal('102.1800'), Decimal('89.49'), Decimal('50.50'), datetime.datetime(2014, 6, 8, 9, 30, 3))\n",
      "(4, 8, 2023, 5, 1, 0, 1, 1, 12, Decimal('-41.56485'), Decimal('-10.78781'), Decimal('1248.00'), Decimal('98.7000'), Decimal('82.80'), Decimal('33.40'), datetime.datetime(2014, 6, 7, 9, 30, 1))\n",
      "(4, 8, 2023, 5, 1, 0, 1, 1, 11, Decimal('-41.54564'), Decimal('-9.54689'), Decimal('1213.00'), Decimal('88.4000'), Decimal('87.50'), Decimal('48.20'), datetime.datetime(2014, 6, 6, 9, 30, 2))\n",
      "(4, 8, 2023, 5, 1, 0, 1, 1, 10, Decimal('-40.65498'), Decimal('-9.51254'), Decimal('1200.00'), Decimal('92.4500'), Decimal('88.60'), Decimal('49.75'), datetime.datetime(2014, 6, 5, 9, 30))\n",
      "(2, 2, 2018, 5, 1, 0, 2, 0, 8, Decimal('-55.56489'), Decimal('-22.13285'), Decimal('576.00'), Decimal('96.1000'), Decimal('115.80'), Decimal('46.50'), datetime.datetime(2013, 5, 17, 17, 0))\n",
      "(2, 2, 2018, 5, 1, 0, 2, 0, 7, Decimal('-55.23157'), Decimal('-21.65487'), Decimal('584.00'), Decimal('98.7000'), Decimal('102.80'), Decimal('48.70'), datetime.datetime(2013, 5, 17, 16, 0))\n",
      "(2, 2, 2018, 5, 1, 0, 2, 0, 6, Decimal('-54.75013'), Decimal('-20.42616'), Decimal('591.00'), Decimal('95.4000'), Decimal('99.50'), Decimal('45.10'), datetime.datetime(2013, 5, 17, 15, 0))\n"
     ]
    }
   ],
   "source": [
    "ex4 = \"\"\"\n",
    "SELECT * FROM automovel\n",
    "JOIN rastreador USING(idautomovel)\n",
    "JOIN evento USING(idrastreador)\n",
    "ORDER BY data DESC\n",
    "\"\"\"\n",
    "\n",
    "db(ex4)"
   ]
  },
  {
   "cell_type": "markdown",
   "metadata": {},
   "source": [
    "5. **Análise de Velocidade Média por Tipo de Rastreador**: Elabore uma query que calcule a velocidade média registrada por cada tipo de rastreador, incluindo apenas registros com velocidade maior que zero. Agrupe o resultado por tipo de rastreador e ordene pela velocidade média de forma decrescente."
   ]
  },
  {
   "cell_type": "code",
   "execution_count": 8,
   "metadata": {},
   "outputs": [
    {
     "name": "stdout",
     "output_type": "stream",
     "text": [
      "Executando query:\n",
      "('PRECISION', Decimal('96.73333333'))\n",
      "('LITE', Decimal('65.45578947'))\n"
     ]
    }
   ],
   "source": [
    "ex5 = \"\"\"\n",
    "SELECT descricao, AVG(velocidade) FROM rastreador\n",
    "JOIN tipo USING(idTipo)\n",
    "JOIN evento USING(idRastreador)\n",
    "GROUP BY idTipo\n",
    "ORDER BY AVG(velocidade) DESC\n",
    "\"\"\"\n",
    "db(ex5)"
   ]
  },
  {
   "cell_type": "markdown",
   "metadata": {},
   "source": [
    "6. **Clientes sem Serviços Ativos**: Crie uma query que identifique clientes que não possuem nenhum serviço ativo (`ativo` = 0 ou nulo) associado a seus automóveis. Liste o nome do cliente e o total de automóveis que possui."
   ]
  },
  {
   "cell_type": "code",
   "execution_count": 32,
   "metadata": {},
   "outputs": [
    {
     "name": "stdout",
     "output_type": "stream",
     "text": [
      "Executando query:\n",
      "('Agromil', 3)\n"
     ]
    }
   ],
   "source": [
    "ex6 = \"\"\"\n",
    "    SELECT nome, COUNT(DISTINCT idautomovel) FROM cliente \n",
    "    JOIN automovel USING(idcliente)\n",
    "    JOIN automovel_has_servico USING(idautomovel)\n",
    "    WHERE ativo = 0\n",
    "    GROUP BY idcliente\n",
    "\"\"\"\n",
    "\n",
    "db(ex6)"
   ]
  },
  {
   "cell_type": "markdown",
   "metadata": {},
   "source": [
    "7. **Custo Total de Serviços por Marca de Automóvel**: Desenvolva uma query que some o preço base de todos os serviços ativos contratados para automóveis de cada marca, apresentando o nome da marca e o custo total dos serviços. Ordene o resultado pelo custo total decrescente."
   ]
  },
  {
   "cell_type": "code",
   "execution_count": 26,
   "metadata": {},
   "outputs": [
    {
     "name": "stdout",
     "output_type": "stream",
     "text": [
      "Executando query:\n",
      "('Toyota', Decimal('159.50'))\n",
      "('Nissan', Decimal('159.50'))\n",
      "('Volkswagen', Decimal('109.60'))\n",
      "('Honda', Decimal('89.70'))\n"
     ]
    }
   ],
   "source": [
    "ex7 = \"\"\"\n",
    "SELECT marca, SUM(preco_base) AS total FROM marca\n",
    "JOIN modelo USING(idmarca)\n",
    "JOIN automovel USING(idmodelo)\n",
    "JOIN automovel_has_servico USING(idautomovel)\n",
    "JOIN servico USING(idservico)\n",
    "WHERE ativo = 1\n",
    "GROUP BY marca\n",
    "ORDER BY total DESC\n",
    "\"\"\"\n",
    "\n",
    "db(ex7)"
   ]
  }
 ],
 "metadata": {
  "kernelspec": {
   "display_name": "env",
   "language": "python",
   "name": "python3"
  },
  "language_info": {
   "codemirror_mode": {
    "name": "ipython",
    "version": 3
   },
   "file_extension": ".py",
   "mimetype": "text/x-python",
   "name": "python",
   "nbconvert_exporter": "python",
   "pygments_lexer": "ipython3",
   "version": "3.11.1"
  }
 },
 "nbformat": 4,
 "nbformat_minor": 2
}
